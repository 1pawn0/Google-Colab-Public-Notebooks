{
  "nbformat": 4,
  "nbformat_minor": 0,
  "metadata": {
    "colab": {
      "private_outputs": true,
      "provenance": [],
      "mount_file_id": "1mAoP0ypXsn4E4d5hYAdIw8W_h9bCTpxb",
      "authorship_tag": "ABX9TyOedxDBWNa8R4favSEEq4lU",
      "include_colab_link": true
    },
    "kernelspec": {
      "name": "python3",
      "display_name": "Python 3"
    },
    "language_info": {
      "name": "python"
    }
  },
  "cells": [
    {
      "cell_type": "markdown",
      "metadata": {
        "id": "view-in-github",
        "colab_type": "text"
      },
      "source": [
        "<a href=\"https://colab.research.google.com/github/1pawn0/Google-Colab-Public-Notebooks/blob/main/Kaggle-Competitions/kaggle_competition_template.ipynb\" target=\"_parent\"><img src=\"https://colab.research.google.com/assets/colab-badge.svg\" alt=\"Open In Colab\"/></a>"
      ]
    },
    {
      "cell_type": "code",
      "execution_count": null,
      "metadata": {
        "id": "H82-99D08J_D"
      },
      "outputs": [],
      "source": [
        "import os, sys\n",
        "import numpy as np\n",
        "import holoviews as hv\n",
        "import polars as pl\n",
        "import kagglehub\n",
        "import jax.numpy as jnp\n",
        "\n",
        "from tqdm.notebook import trange, tqdm\n",
        "from pathlib import Path\n",
        "from google.colab import userdata\n",
        "from rich.progress import track, Progress\n",
        "from rich.pretty import pprint\n",
        "from rich.theme import Theme\n",
        "\n",
        "hv.extension('bokeh', logo=False)\n",
        "print(\n",
        "    \"python \" + sys.version.split()[0],\n",
        "    \"numpy \" + np.__version__,\n",
        "    \"polars \" + pl.__version__,\n",
        "    sep=\"\\n\",\n",
        ")\n",
        "\n",
        "# TODO: change competition handle string\n",
        "kaggle_competition_handle: str = \"kaggle-competition-handle-string\""
      ]
    },
    {
      "cell_type": "code",
      "source": [
        "# @title kagglehub read login credentials and download the competition\n",
        "\n",
        "# get environment variables from colab notebook secrets and set them\n",
        "os.environ['KAGGLE_USERNAME'] = userdata.get('KAGGLE_USERNAME')\n",
        "os.environ['KAGGLE_KEY'] = userdata.get('KAGGLE_KEY')\n",
        "os.environ['KAGGLE_CONFIG_DIR'] = userdata.get('KAGGLE_CONFIG_DIR')\n",
        "\n",
        "competition_path: Path = Path(kagglehub.competition_download(handle=kaggle_competition_handle))\n",
        "competition_files: list[Path] = [file_path for file_path in competition_path.iterdir()]\n",
        "pprint('Now, you can access all files of the competition dataset from the `list` variable `competition_files`')\n",
        "pprint(competition_files)\n"
      ],
      "metadata": {
        "id": "hnDBgvAnEOzG"
      },
      "execution_count": null,
      "outputs": []
    },
    {
      "cell_type": "code",
      "source": [],
      "metadata": {
        "id": "v-ILg4OiHpuB"
      },
      "execution_count": null,
      "outputs": []
    }
  ]
}